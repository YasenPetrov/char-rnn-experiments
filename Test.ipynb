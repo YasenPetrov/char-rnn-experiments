{
 "cells": [
  {
   "cell_type": "code",
   "execution_count": 2,
   "metadata": {},
   "outputs": [],
   "source": [
    "from utils import clean_and_split_file"
   ]
  },
  {
   "cell_type": "code",
   "execution_count": 4,
   "metadata": {},
   "outputs": [
    {
     "data": {
      "text/plain": [
       "0.05970149253731343"
      ]
     },
     "execution_count": 4,
     "metadata": {},
     "output_type": "execute_result"
    }
   ],
   "source": [
    "8 / 134"
   ]
  },
  {
   "cell_type": "code",
   "execution_count": 5,
   "metadata": {},
   "outputs": [
    {
     "data": {
      "text/plain": [
       "0.05263157894736842"
      ]
     },
     "execution_count": 5,
     "metadata": {},
     "output_type": "execute_result"
    }
   ],
   "source": [
    "5/95"
   ]
  },
  {
   "cell_type": "code",
   "execution_count": 3,
   "metadata": {},
   "outputs": [],
   "source": [
    "clean_and_split_file('../data/cantrbry/alice29.txt', 'datasets/alice', .9, .05, .05)"
   ]
  },
  {
   "cell_type": "code",
   "execution_count": 6,
   "metadata": {},
   "outputs": [
    {
     "data": {
      "text/plain": [
       "'ohso'"
      ]
     },
     "execution_count": 6,
     "metadata": {},
     "output_type": "execute_result"
    }
   ],
   "source": [
    "''.join(filter(lambda x: x in set('gosho'), 'poehso'))"
   ]
  },
  {
   "cell_type": "code",
   "execution_count": 58,
   "metadata": {
    "collapsed": true
   },
   "outputs": [],
   "source": [
    "import codecs\n",
    "import sys\n",
    "import os\n",
    "import numpy as np\n",
    "from datautils.dataset import Alphabet, Dataset\n",
    "from models.rnn import RNN_LM\n",
    "from training import train_rnn, evaluate_rnn\n",
    "import torch.nn as nn\n",
    "from torch.autograd import Variable\n",
    "import torch.optim as optim\n",
    "import torch"
   ]
  },
  {
   "cell_type": "code",
   "execution_count": 59,
   "metadata": {
    "collapsed": true
   },
   "outputs": [],
   "source": [
    "# filename = '../data/enwik8/enwik8.txt'\n",
    "# filename_train = '../data/lotr/lotr_fotr_train_u.txt'\n",
    "# filename_train = '../data/alice29_alpha_train.9.txt'\n",
    "filename_train = '../data/alice29.txt'\n",
    "\n",
    "filename_val = '../data/alice29_alpha_test.1.txt'\n",
    "\n",
    "alph = Alphabet.from_text(filename_train)\n",
    "\n",
    "data_train = Dataset(filename_train, alph)\n",
    "data_val = Dataset(filename_val, alph)\n",
    "\n",
    "with open(filename_train) as fp:\n",
    "    text = fp.read()\n",
    "\n",
    "alphabet_size = alph.get_size()\n",
    "hidden_dim = alphabet_size\n",
    "num_timesteps = 64\n",
    "use_gpu = True\n",
    "batch_size = 20\n",
    "plot_every = 50\n",
    "hidden_state_reset_interval = 100"
   ]
  },
  {
   "cell_type": "code",
   "execution_count": 61,
   "metadata": {},
   "outputs": [
    {
     "name": "stdout",
     "output_type": "stream",
     "text": [
      "CPU times: user 4.36 s, sys: 420 ms, total: 4.78 s\n",
      "Wall time: 5.32 s\n"
     ]
    }
   ],
   "source": [
    "%%time\n",
    "torch.manual_seed(1231)\n",
    "\n",
    "model = RNN_LM(alphabet_size=alphabet_size, hidden_dim=hidden_dim, batch_size=batch_size, num_layers=1,\n",
    "               use_gpu=use_gpu, network_type='lstm', recurrent_dropout=0)\n",
    "\n",
    "loss_function = nn.modules.loss.CrossEntropyLoss()\n",
    "optimizer = optim.Adam(model.parameters(), lr=0.01)\n",
    "\n",
    "if use_gpu:\n",
    "    model.cuda()\n",
    "\n",
    "step = 0\n",
    "losses = []\n",
    "total_train_loss = 0\n",
    "running_train_loss = 0\n",
    "loss_records = 0\n",
    "loss_steps = 0\n",
    "\n",
    "\n",
    "for epoch_number in range(2):\n",
    "    batch_iterator = data_train.get_batch_iterator(batch_size, num_timesteps)\n",
    "    for inputs, targets in batch_iterator:\n",
    "        if use_gpu:\n",
    "            inputs = Variable(torch.Tensor(inputs)).cuda()\n",
    "            targets = Variable(torch.LongTensor(targets)).cuda()\n",
    "        else:\n",
    "            inputs = Variable(torch.Tensor(inputs))\n",
    "            targets = Variable(torch.LongTensor(targets))\n",
    "        \n",
    "        model.zero_grad()\n",
    "        \n",
    "#         TODO: reset hidden state at given intervals (problems with backprop)\n",
    "        if step % hidden_state_reset_interval == 0:\n",
    "            model.hidden = model.init_hidden()\n",
    "        else:\n",
    "            old_hidden_values = model.get_hidden_data()\n",
    "            model.hidden = model.init_hidden(batch_size=None, init_values=old_hidden_values)\n",
    "            \n",
    "        \n",
    "        logits = model(inputs)\n",
    "        \n",
    "        loss = loss_function(logits.view(-1, alphabet_size), targets.view(-1))\n",
    "        total_train_loss += loss.data[0]\n",
    "        \n",
    "        loss.backward()\n",
    "        \n",
    "        optimizer.step()\n",
    "        step += 1\n",
    "        \n",
    "        if step % plot_every == 0:\n",
    "            loss_records += 1\n",
    "            # calculate validation loss\n",
    "            \n",
    "            # Initialize hidden states with a batch size of 1 for evaluation\n",
    "            old_hidden = model.hidden\n",
    "            model.hidden = model.init_hidden(batch_size=1)\n",
    "            \n",
    "            #TODO: Make sure we iterate through whole file when validating\n",
    "            val_iterator = data_val.get_batch_iterator(1, batch_size * num_timesteps)\n",
    "            val_loss = 0\n",
    "            v_steps = 0\n",
    "            for v_inp, v_tar in val_iterator:\n",
    "                if use_gpu:\n",
    "                    v_inp = Variable(torch.Tensor(v_inp)).cuda()\n",
    "                    v_tar = Variable(torch.LongTensor(v_tar)).cuda()\n",
    "                else:\n",
    "                    v_inp = Variable(torch.Tensor(v_inp))\n",
    "                    v_tar = Variable(torch.LongTensor(v_tar))\n",
    "                v_logits = model(v_inp)\n",
    "                \n",
    "                val_loss += loss_function(v_logits.view(-1, alphabet_size), v_tar.view(-1)).data[0]\n",
    "                v_steps += 1\n",
    "\n",
    "            # Set hidden states to original ones\n",
    "            model.hidden = old_hidden\n",
    "            \n",
    "            iter_train_loss = total_train_loss / plot_every\n",
    "            running_train_loss = running_train_loss * ((loss_records - 1) / loss_records) + \\\n",
    "                iter_train_loss * (1 / loss_records)\n",
    "            \n",
    "#             losses.append([step, total_train_loss / plot_every, val_loss / v_steps])\n",
    "            losses.append([step, iter_train_loss, running_train_loss, val_loss / v_steps])\n",
    "\n",
    "            total_train_loss = 0"
   ]
  },
  {
   "cell_type": "code",
   "execution_count": 19,
   "metadata": {},
   "outputs": [
    {
     "data": {
      "text/plain": [
       "2.034505569934845"
      ]
     },
     "execution_count": 19,
     "metadata": {},
     "output_type": "execute_result"
    }
   ],
   "source": [
    "model.hidden = model.init_hidden(batch_size=1)\n",
    "            \n",
    "#TODO: Make sure we iterate through whole file when validating\n",
    "val_iterator = data_val.get_batch_iterator(1, batch_size * num_timesteps)\n",
    "val_loss = 0\n",
    "v_steps = 0\n",
    "for v_inp, v_tar in val_iterator:\n",
    "    if use_gpu:\n",
    "        v_inp = Variable(torch.Tensor(v_inp)).cuda()\n",
    "        v_tar = Variable(torch.LongTensor(v_tar)).cuda()\n",
    "    else:\n",
    "        v_inp = Variable(torch.Tensor(v_inp))\n",
    "        v_tar = Variable(torch.LongTensor(v_tar))\n",
    "    v_logits = model(v_inp)\n",
    "\n",
    "    val_loss += loss_function(v_logits.view(-1, alphabet_size), v_tar.view(-1)).data[0]\n",
    "    v_steps += 1\n",
    "\n",
    "val_loss / v_steps"
   ]
  },
  {
   "cell_type": "code",
   "execution_count": 30,
   "metadata": {},
   "outputs": [
    {
     "data": {
      "text/plain": [
       "1.7764518024786464"
      ]
     },
     "execution_count": 30,
     "metadata": {},
     "output_type": "execute_result"
    }
   ],
   "source": [
    "bi = data_val.get_batch_iterator(1, 128)\n",
    "model.hidden = model.init_hidden(batch_size=1)\n",
    "val_loss = 0\n",
    "val_loss1 = 0\n",
    "val_steps = 0\n",
    "for inputs, targets in bi:\n",
    "    if use_gpu:\n",
    "        inputs = Variable(torch.Tensor(inputs)).cuda()\n",
    "        targets = Variable(torch.LongTensor(targets)).cuda()\n",
    "    else:\n",
    "        inputs = Variable(torch.Tensor(inputs))\n",
    "        targets = Variable(torch.LongTensor(targets))\n",
    "    logits = model(inputs)\n",
    "    loss = loss_function(logits.view(-1, alphabet_size), targets.view(-1))\n",
    "    loss1 = 0\n",
    "    for ls, ts in zip(logits, targets):\n",
    "        loss1 += loss_function(ls, ts)\n",
    "    val_loss += loss.data[0]\n",
    "    val_loss1 += loss1.data[0]\n",
    "    \n",
    "    val_steps += 1\n",
    "\n",
    "val_loss / val_steps"
   ]
  },
  {
   "cell_type": "code",
   "execution_count": 13,
   "metadata": {
    "collapsed": true
   },
   "outputs": [],
   "source": [
    "torch.save(model, 'model.pt')"
   ]
  },
  {
   "cell_type": "code",
   "execution_count": 14,
   "metadata": {
    "collapsed": true
   },
   "outputs": [],
   "source": [
    "torch.save(model.state_dict(), 'model_sd.sd')"
   ]
  },
  {
   "cell_type": "code",
   "execution_count": 18,
   "metadata": {
    "collapsed": true
   },
   "outputs": [],
   "source": [
    "model.load_state_dict(torch.load('model_sd.sd'))"
   ]
  },
  {
   "cell_type": "code",
   "execution_count": 3,
   "metadata": {
    "collapsed": true
   },
   "outputs": [],
   "source": [
    "model = torch.load('model_sd.sd')"
   ]
  },
  {
   "cell_type": "code",
   "execution_count": 12,
   "metadata": {
    "collapsed": true
   },
   "outputs": [],
   "source": [
    "model = torch.load('model.pt')\n",
    "model.rnn.flatten_parameters()"
   ]
  },
  {
   "cell_type": "code",
   "execution_count": 5,
   "metadata": {},
   "outputs": [
    {
     "name": "stdout",
     "output_type": "stream",
     "text": [
      "CPU times: user 3min 49s, sys: 21.7 s, total: 4min 10s\n",
      "Wall time: 4min 10s\n"
     ]
    }
   ],
   "source": [
    "%%time\n",
    "model = RNN_LM(alphabet_size=alphabet_size, hidden_dim=hidden_dim, batch_size=batch_size, num_layers=1,\n",
    "               use_gpu=use_gpu, network_type='lstm', recurrent_dropout=0)\n",
    "\n",
    "loss_function = nn.modules.loss.CrossEntropyLoss()\n",
    "optimizer = optim.Adam(model.parameters(), lr=0.01)\n",
    "\n",
    "losses1, val_loss = train_rnn(model, data_train, data_val, batch_size, num_timesteps, hidden_state_reset_interval, 100,\n",
    "                    optimizer, True, plot_every)"
   ]
  },
  {
   "cell_type": "code",
   "execution_count": 72,
   "metadata": {},
   "outputs": [
    {
     "data": {
      "text/plain": [
       "<matplotlib.text.Text at 0x7f751a64ea20>"
      ]
     },
     "execution_count": 72,
     "metadata": {},
     "output_type": "execute_result"
    },
    {
     "data": {
      "image/png": "[encoded data removed]",
      "text/plain": [
       "<matplotlib.figure.Figure at 0x7f751a7c0278>"
      ]
     },
     "metadata": {},
     "output_type": "display_data"
    }
   ],
   "source": [
    "import numpy as np\n",
    "import matplotlib.pyplot as plt\n",
    "%matplotlib inline\n",
    "\n",
    "losses = np.array(losses)\n",
    "plt.figure(figsize=(12, 8))\n",
    "plt.grid()\n",
    "plt.plot(losses[:, 0], losses[:, 1], label='Train')\n",
    "plt.plot(losses[:, 0], losses[:, 2], label='Train(RA)')\n",
    "plt.plot(losses[:, 0], losses[:, 3], label='Valid.')\n",
    "plt.legend(fontsize=14)\n",
    "\n",
    "plt.xlabel('Batches processed', fontsize=14)\n",
    "plt.ylabel('BPC', fontsize=14)\n",
    "\n",
    "plt.savefig()"
   ]
  },
  {
   "cell_type": "code",
   "execution_count": 6,
   "metadata": {},
   "outputs": [
    {
     "data": {
      "text/plain": [
       "<matplotlib.legend.Legend at 0x7f901fefbbe0>"
      ]
     },
     "execution_count": 6,
     "metadata": {},
     "output_type": "execute_result"
    },
    {
     "data": {
      "image/png": "[encoded data removed]",
      "text/plain": [
       "<matplotlib.figure.Figure at 0x7f902e0f1a58>"
      ]
     },
     "metadata": {},
     "output_type": "display_data"
    }
   ],
   "source": [
    "import numpy as np\n",
    "import matplotlib.pyplot as plt\n",
    "%matplotlib inline\n",
    "\n",
    "losses1 = np.array(losses1)\n",
    "plt.figure(figsize=(12, 8))\n",
    "plt.plot(losses1[:, 0], losses1[:, 1], label='Train')\n",
    "plt.plot(losses1[:, 0], losses1[:, 2], label='Train(running average)')\n",
    "plt.plot(losses1[:, 0], losses1[:, 3], label='Valid.')\n",
    "plt.legend()"
   ]
  },
  {
   "cell_type": "code",
   "execution_count": 1,
   "metadata": {
    "collapsed": true
   },
   "outputs": [],
   "source": [
    "import json\n",
    "from itertools import product\n",
    "with open('experiments/alice_test/spec.json') as fp:\n",
    "    spec = json.load(fp)"
   ]
  },
  {
   "cell_type": "code",
   "execution_count": 2,
   "metadata": {
    "collapsed": true
   },
   "outputs": [],
   "source": [
    "vals = spec['hyperparams'].values()"
   ]
  },
  {
   "cell_type": "code",
   "execution_count": 3,
   "metadata": {},
   "outputs": [
    {
     "data": {
      "text/plain": [
       "[('lstm', 0, 1, 10, 100, 1000, 'SGD', 0.1, 20, 0, 0, 0),\n",
       " ('lstm', 0, 1, 10, 100, 1000, 'SGD', 0.01, 20, 0, 0, 0)]"
      ]
     },
     "execution_count": 3,
     "metadata": {},
     "output_type": "execute_result"
    }
   ],
   "source": [
    "combs = list(product(*vals))\n",
    "combs"
   ]
  },
  {
   "cell_type": "code",
   "execution_count": null,
   "metadata": {
    "collapsed": true
   },
   "outputs": [],
   "source": [
    "torch.save()"
   ]
  },
  {
   "cell_type": "code",
   "execution_count": 4,
   "metadata": {},
   "outputs": [
    {
     "data": {
      "text/plain": [
       "{'batch_size': 10,\n",
       " 'hidden_size': 0,\n",
       " 'l2_penalty': 0,\n",
       " 'learning_rate': 0.1,\n",
       " 'linear_dropout': 0,\n",
       " 'network_type': 'lstm',\n",
       " 'num_epochs': 20,\n",
       " 'num_layers': 1,\n",
       " 'num_timesteps': 100,\n",
       " 'optimizer': 'SGD',\n",
       " 'recurrent_dropout': 0,\n",
       " 'reset_state_every': 1000}"
      ]
     },
     "execution_count": 4,
     "metadata": {},
     "output_type": "execute_result"
    }
   ],
   "source": [
    "dict(zip(spec['hyperparams'].keys(), combs[0]))"
   ]
  },
  {
   "cell_type": "code",
   "execution_count": 5,
   "metadata": {
    "collapsed": true
   },
   "outputs": [],
   "source": [
    "from utils import dict_of_lists_to_list_of_dicts\n",
    "hps = dict_of_lists_to_list_of_dicts(spec['hyperparams'])"
   ]
  },
  {
   "cell_type": "code",
   "execution_count": 6,
   "metadata": {
    "collapsed": true
   },
   "outputs": [],
   "source": [
    "from trainutils.trainutils import Hyperparameters\n",
    "\n",
    "h = Hyperparameters(**hps[0])"
   ]
  },
  {
   "cell_type": "code",
   "execution_count": 17,
   "metadata": {},
   "outputs": [
    {
     "ename": "AttributeError",
     "evalue": "'dict' object has no attribute 'to_strin'",
     "output_type": "error",
     "traceback": [
      "\u001b[0;31m---------------------------------------------------------------------------\u001b[0m",
      "\u001b[0;31mAttributeError\u001b[0m                            Traceback (most recent call last)",
      "\u001b[0;32m<ipython-input-17-81d4fb47189c>\u001b[0m in \u001b[0;36m<module>\u001b[0;34m()\u001b[0m\n\u001b[0;32m----> 1\u001b[0;31m \u001b[0mprint\u001b[0m\u001b[0;34m(\u001b[0m\u001b[0mh\u001b[0m\u001b[0;34m.\u001b[0m\u001b[0m__dict__\u001b[0m\u001b[0;34m.\u001b[0m\u001b[0mto_strin\u001b[0m\u001b[0;34m(\u001b[0m\u001b[0mg\u001b[0m\u001b[0;34m(\u001b[0m\u001b[0;34m)\u001b[0m\u001b[0;34m)\u001b[0m\u001b[0;34m)\u001b[0m\u001b[0;34m\u001b[0m\u001b[0m\n\u001b[0m",
      "\u001b[0;31mAttributeError\u001b[0m: 'dict' object has no attribute 'to_strin'"
     ]
    }
   ],
   "source": [
    "print(h.__dict__.))"
   ]
  },
  {
   "cell_type": "code",
   "execution_count": 18,
   "metadata": {
    "collapsed": true
   },
   "outputs": [],
   "source": [
    "with open('experiments/test_small/spec.json') as fp:\n",
    "    s = json.load(fp)"
   ]
  },
  {
   "cell_type": "code",
   "execution_count": 19,
   "metadata": {},
   "outputs": [
    {
     "data": {
      "text/plain": [
       "{'alphabet_file': '',\n",
       " 'data_folder': 'test_small',\n",
       " 'hyperparams': {'1': {'batch_size': [2],\n",
       "   'hidden_size': [0],\n",
       "   'l2_penalty': [0],\n",
       "   'learning_rate': [0.1],\n",
       "   'linear_dropout': [0],\n",
       "   'network_type': ['lstm'],\n",
       "   'num_epochs': [2],\n",
       "   'num_layers': [1],\n",
       "   'num_timesteps': [20, 30],\n",
       "   'optimizer': [{'name': 'SGD'}],\n",
       "   'recurrent_dropout': [0],\n",
       "   'reset_state_every': [120]},\n",
       "  '2': {'batch_size': [4],\n",
       "   'hidden_size': [0],\n",
       "   'l2_penalty': [0],\n",
       "   'learning_rate': [0.1],\n",
       "   'linear_dropout': [0],\n",
       "   'network_type': ['lstm'],\n",
       "   'num_epochs': [2],\n",
       "   'num_layers': [1],\n",
       "   'num_timesteps': [10, 15],\n",
       "   'optimizer': ['SGD'],\n",
       "   'recurrent_dropout': [0],\n",
       "   'reset_state_every': [120]}},\n",
       " 'model': 'rnn'}"
      ]
     },
     "execution_count": 19,
     "metadata": {},
     "output_type": "execute_result"
    }
   ],
   "source": [
    "s"
   ]
  },
  {
   "cell_type": "code",
   "execution_count": 22,
   "metadata": {},
   "outputs": [
    {
     "data": {
      "text/plain": [
       "1.0522895483996215"
      ]
     },
     "execution_count": 22,
     "metadata": {},
     "output_type": "execute_result"
    }
   ],
   "source": [
    "os.path.getsize('model.pt') / os.path.getsize('model_sd.sd')"
   ]
  },
  {
   "cell_type": "code",
   "execution_count": 54,
   "metadata": {
    "collapsed": true
   },
   "outputs": [],
   "source": [
    "a = dict(c=5, d=None)\n",
    "json.dump()"
   ]
  },
  {
   "cell_type": "code",
   "execution_count": 55,
   "metadata": {
    "collapsed": true
   },
   "outputs": [],
   "source": [
    "import json\n",
    "\n",
    "with open('sth.json', 'w+') as fp:\n",
    "    json.dump(a, fp)"
   ]
  },
  {
   "cell_type": "code",
   "execution_count": 56,
   "metadata": {},
   "outputs": [
    {
     "name": "stdout",
     "output_type": "stream",
     "text": [
      "{\"c\": 5, \"d\": null}"
     ]
    }
   ],
   "source": [
    "!cat sth.json"
   ]
  },
  {
   "cell_type": "code",
   "execution_count": 56,
   "metadata": {},
   "outputs": [
    {
     "name": "stdout",
     "output_type": "stream",
     "text": [
      "115\n",
      "3\n",
      "112\n",
      "2 8\n",
      "[[ 0  1  2  3  4  5  6  7  8  9]\n",
      " [28 29 30 31 32 33 34 35 36 37]\n",
      " [56 57 58 59 60 61 62 63 64 65]\n",
      " [84 85 86 87 88 89 90 91 92 93]]\n"
     ]
    },
    {
     "data": {
      "text/plain": [
       "array([[ 0,  1,  2,  3,  4,  5,  6,  7,  8,  9],\n",
       "       [ 6,  7,  8,  9, 10,  0,  1,  2,  3,  4],\n",
       "       [ 1,  2,  3,  4,  5,  6,  7,  8,  9, 10],\n",
       "       [ 7,  8,  9, 10,  0,  1,  2,  3,  4,  5]])"
      ]
     },
     "execution_count": 56,
     "metadata": {},
     "output_type": "execute_result"
    }
   ],
   "source": [
    "import numpy as np\n",
    "\n",
    "B = 4\n",
    "T = 10\n",
    "alph_size = 11\n",
    "\n",
    "ids = np.arange(115)\n",
    "# ids = np.random.randint(0, alph_size, 115)\n",
    "print(len(ids))\n",
    "\n",
    "nt_p, r = divmod(len(ids), B)\n",
    "print(r)\n",
    "ids = ids[:len(ids) - r]\n",
    "print(len(ids))\n",
    "\n",
    "\n",
    "n, p = divmod(nt_p, T)\n",
    "print(n, p)\n",
    "\n",
    "print(ids.reshape(B, -1)[:, :10])\n",
    "# ids.reshape(batch_size, -1,  n_ts).transpose(1, 0, 2)\n",
    "\n",
    "encs = np.zeros((len(ids), alph_size))\n",
    "for i, r in enumerate(encs):\n",
    "    r[ids[i] % alph_size] = 1\n",
    "\n",
    "np.argmax(encs, 1)\n",
    "\n",
    "np.argmax(encs.reshape(B, (n * T + p), alph_size)[:, :10, :], 2)\n",
    "# np.argmax(encs.reshape(B, (n * T + p), alph_size)[:10], 2)"
   ]
  },
  {
   "cell_type": "code",
   "execution_count": 40,
   "metadata": {},
   "outputs": [
    {
     "data": {
      "text/plain": [
       "(112, 7)"
      ]
     },
     "execution_count": 40,
     "metadata": {},
     "output_type": "execute_result"
    }
   ],
   "source": [
    "encs.shape"
   ]
  }
 ],
 "metadata": {
  "kernelspec": {
   "display_name": "pyTorch(display)",
   "language": "python",
   "name": "pytorch"
  },
  "language_info": {
   "codemirror_mode": {
    "name": "ipython",
    "version": 3
   },
   "file_extension": ".py",
   "mimetype": "text/x-python",
   "name": "python",
   "nbconvert_exporter": "python",
   "pygments_lexer": "ipython3",
   "version": "3.6.4"
  }
 },
 "nbformat": 4,
 "nbformat_minor": 2
}
